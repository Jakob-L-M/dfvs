{
 "cells": [
  {
   "cell_type": "code",
   "execution_count": null,
   "id": "8cdcd769",
   "metadata": {},
   "outputs": [],
   "source": [
    "import pandas as pd\n",
    "import numpy as np\n",
    "import json\n",
    "from tqdm import tqdm\n",
    "from keras.models import Sequential\n",
    "from keras.layers import Dense\n",
    "from keras.layers import Dropout\n",
    "from keras.layers import LeakyReLU\n",
    "from sklearn.preprocessing import StandardScaler\n",
    "from sklearn.model_selection import train_test_split\n",
    "import matplotlib.pyplot as plt"
   ]
  },
  {
   "cell_type": "code",
   "execution_count": null,
   "id": "64e34717",
   "metadata": {},
   "outputs": [],
   "source": [
    "sol = pd.read_csv('solutions_week2.csv', sep=';').iloc[:,[0,-1]]\n",
    "solutions = [json.loads(i) for i in sol['solution']]\n",
    "sol['solution'] = solutions\n",
    "\n",
    "sol5 = pd.read_csv('week5_small_sol.csv', sep=';').iloc[:,[0,-1]]\n",
    "solutions = [json.loads(i) for i in sol5['solution']]\n",
    "sol5['solution'] = solutions\n",
    "\n",
    "sol = sol.append(sol5)\n",
    "sol"
   ]
  },
  {
   "cell_type": "code",
   "execution_count": null,
   "id": "96dbe2d0",
   "metadata": {
    "scrolled": true
   },
   "outputs": [],
   "source": [
    "vert = pd.read_csv('nodes_v5.csv', index_col=None)\n",
    "\n",
    "deleted = []\n",
    "c = []\n",
    "for r in tqdm(vert.iterrows(), total=len(vert)):\n",
    "    data = r[1]\n",
    "    s = sol[sol['instance'] == data['instance']]['solution'].to_numpy()[0]\n",
    "    if data['nodeId'] in s:\n",
    "        deleted.append(1)\n",
    "    else:\n",
    "        deleted.append(0)\n",
    "        \n",
    "vert['y'] = deleted\n",
    "\n",
    "\n",
    "vert.to_csv('vertices_week2_v6_with_deleted.csv', index=False)\n",
    "vert"
   ]
  },
  {
   "cell_type": "code",
   "execution_count": null,
   "id": "37c8e920",
   "metadata": {},
   "outputs": [],
   "source": [
    "sum(vert['y'])"
   ]
  },
  {
   "cell_type": "code",
   "execution_count": null,
   "id": "c883ff75",
   "metadata": {},
   "outputs": [],
   "source": [
    "X = vert.iloc[:,3:-1].to_numpy()\n",
    "y = vert['y'].to_numpy(dtype=np.float64)\n",
    "\n",
    "X_train,X_test,y_train,y_test = train_test_split(X,y,test_size = 0.1)"
   ]
  },
  {
   "cell_type": "code",
   "execution_count": null,
   "id": "60420b88",
   "metadata": {},
   "outputs": [],
   "source": [
    "model = Sequential()\n",
    "model.add(Dense(12, input_dim=12))\n",
    "model.add(LeakyReLU(alpha=0.1))\n",
    "model.add(Dropout(0.1))\n",
    "model.add(Dense(12, input_dim=12))\n",
    "model.add(Dropout(0.05))\n",
    "model.add(LeakyReLU(alpha=0.1))\n",
    "model.add(Dense(6, input_dim=6))\n",
    "model.add(LeakyReLU(alpha=0.1))\n",
    "model.add(Dense(1, activation='sigmoid'))\n",
    "\n",
    "model.compile(loss='binary_crossentropy', optimizer='adam', metrics=['accuracy'])\n",
    "\n",
    "history = model.fit(X_train, y_train,validation_data = (X_test,y_test), epochs=175, batch_size=64);"
   ]
  },
  {
   "cell_type": "code",
   "execution_count": null,
   "id": "31b7f766",
   "metadata": {},
   "outputs": [],
   "source": [
    "plt.plot(history.history['accuracy'])\n",
    "plt.plot(history.history['val_accuracy'])\n",
    "plt.title('Model accuracy')\n",
    "plt.ylabel('Accuracy')\n",
    "plt.xlabel('Epoch')\n",
    "plt.legend(['Train', 'Test'], loc='upper left')\n",
    "plt.show()\n",
    "\n",
    "# deleted = 1, not-deleted = 0\n",
    "\n",
    "x = X_test\n",
    "Y = y_test\n",
    "\n",
    "pred = [int(i[0] > 0.7) for i in model.predict(x, verbose=False)]\n",
    "delC = 0;\n",
    "delF = 0;\n",
    "NdelC = 0;\n",
    "NdelF = 0;\n",
    "\n",
    "for i in range(len(Y)):\n",
    "    if Y[i] == 1 and pred[i] == 1:\n",
    "        delC += 1\n",
    "    elif Y[i] == 1 and pred[i] == 0:\n",
    "        delF += 1\n",
    "    elif Y[i] == 0 and pred[i] == 0:\n",
    "        NdelC += 1\n",
    "    elif Y[i] == 0 and pred[i] == 1:\n",
    "        NdelF += 1\n",
    "        \n",
    "print(\"Act\\Pred| Keep\\t| Del\\nKeep \\t|\",NdelC,\"\\t|\", NdelF, \"\\nDel\\t|\", delF,\"\\t|\", delC)"
   ]
  },
  {
   "cell_type": "code",
   "execution_count": null,
   "id": "18ebd610",
   "metadata": {},
   "outputs": [],
   "source": [
    "# Writes the model to a file which can be interpreted by the Java solver\n",
    "w = model.get_weights()\n",
    "with open('mat_v6.txt', 'w') as f:\n",
    "    for layer in w:\n",
    "        if layer.ndim == 2:    # Weight layer\n",
    "            lay = layer.T\n",
    "            f.write(';\\n')\n",
    "            for row in lay:\n",
    "                f.write(str(list(row)).replace('[', '').replace(']', '') + '\\n')\n",
    "            f.write(';\\n')\n",
    "        if layer.ndim == 1:    # Bias layer\n",
    "            f.write(str(list(layer)).replace('[', '').replace(']', '') + '\\n')"
   ]
  }
 ],
 "metadata": {
  "kernelspec": {
   "display_name": "py3.8",
   "language": "python",
   "name": "py3.8"
  },
  "language_info": {
   "codemirror_mode": {
    "name": "ipython",
    "version": 3
   },
   "file_extension": ".py",
   "mimetype": "text/x-python",
   "name": "python",
   "nbconvert_exporter": "python",
   "pygments_lexer": "ipython3",
   "version": "3.8.6"
  }
 },
 "nbformat": 4,
 "nbformat_minor": 5
}
