{
 "cells": [
  {
   "cell_type": "code",
   "execution_count": null,
   "id": "8cdcd769",
   "metadata": {},
   "outputs": [],
   "source": [
    "import pandas as pd\n",
    "import json\n",
    "from tqdm import tqdm"
   ]
  },
  {
   "cell_type": "code",
   "execution_count": null,
   "id": "144dd01c",
   "metadata": {},
   "outputs": [],
   "source": [
    "sol = pd.read_csv('solutions_week2.csv', sep=';').iloc[:,[0,-1]]\n",
    "solutions = [json.loads(i) for i in sol['solution']]\n",
    "sol['solution'] = solutions\n",
    "sol['week'] = [3 if '3' in i[:i.index('/')] else 2 for i in sol['instance']]\n",
    "# instance -> String: <CLASS>/<NAME>\n",
    "# solution -> Array<Integer>: All vertices that have not been root clean\n",
    "# week -> int: Week indicator either 2 or 3\n",
    "sol = sol.sort_values(by='instance')\n",
    "\n",
    "vert = pd.read_csv('vertices_week2_with_deleted.csv')"
   ]
  },
  {
   "cell_type": "code",
   "execution_count": null,
   "id": "c883ff75",
   "metadata": {},
   "outputs": [],
   "source": [
    "vert"
   ]
  }
 ],
 "metadata": {
  "kernelspec": {
   "display_name": "py3.8",
   "language": "python",
   "name": "py3.8"
  },
  "language_info": {
   "codemirror_mode": {
    "name": "ipython",
    "version": 3
   },
   "file_extension": ".py",
   "mimetype": "text/x-python",
   "name": "python",
   "nbconvert_exporter": "python",
   "pygments_lexer": "ipython3",
   "version": "3.8.6"
  }
 },
 "nbformat": 4,
 "nbformat_minor": 5
}
