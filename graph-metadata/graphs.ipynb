{
 "cells": [
  {
   "cell_type": "code",
   "execution_count": null,
   "id": "7fd3f353",
   "metadata": {},
   "outputs": [],
   "source": [
    "import pandas as pd\n",
    "import numpy as np\n",
    "from tqdm import tqdm\n",
    "from keras.models import Sequential\n",
    "from keras.layers import Dense\n",
    "from keras.layers import Dropout\n",
    "from sklearn.preprocessing import StandardScaler\n",
    "from sklearn.model_selection import train_test_split\n",
    "import matplotlib.pyplot as plt"
   ]
  },
  {
   "cell_type": "code",
   "execution_count": null,
   "id": "5340d864",
   "metadata": {},
   "outputs": [],
   "source": [
    "df = pd.read_csv('graphs_with_petal_3.csv')\n",
    "df['y'] = np.array(df['class'] == 'complex', dtype=np.float64)"
   ]
  },
  {
   "cell_type": "code",
   "execution_count": null,
   "id": "2d0fae9d",
   "metadata": {
    "scrolled": false
   },
   "outputs": [],
   "source": [
    "df"
   ]
  },
  {
   "cell_type": "code",
   "execution_count": null,
   "id": "177686fa",
   "metadata": {},
   "outputs": [],
   "source": [
    "X = df.iloc[:,2:-1].to_numpy()\n",
    "y = df['y'].to_numpy(dtype=np.float64)\n",
    "\n",
    "sc = StandardScaler()\n",
    "X = sc.fit_transform(X)\n",
    "\n",
    "X_train,X_test,y_train,y_test = train_test_split(X,y,test_size = 0.1)"
   ]
  },
  {
   "cell_type": "code",
   "execution_count": null,
   "id": "79d68dfc",
   "metadata": {},
   "outputs": [],
   "source": [
    "model = Sequential()\n",
    "model.add(Dense(20, input_dim=17, activation='relu'))\n",
    "model.add(Dropout(0.1))\n",
    "model.add(Dense(20, activation='relu'))\n",
    "model.add(Dropout(0.2))\n",
    "model.add(Dense(10, activation='relu'))\n",
    "model.add(Dropout(0.1))\n",
    "model.add(Dense(10, activation='relu'))\n",
    "model.add(Dropout(0.1))\n",
    "model.add(Dense(10, activation='relu'))\n",
    "model.add(Dense(1, activation='sigmoid'))\n",
    "\n",
    "model.compile(loss='binary_crossentropy', optimizer='adam', metrics=['accuracy'])\n",
    "\n",
    "history = model.fit(X_train, y_train,validation_data = (X_test,y_test), epochs=100, batch_size=10);"
   ]
  },
  {
   "cell_type": "code",
   "execution_count": null,
   "id": "3f233ed6",
   "metadata": {},
   "outputs": [],
   "source": [
    "plt.plot(history.history['accuracy'])\n",
    "plt.plot(history.history['val_accuracy'])\n",
    "plt.title('Model accuracy')\n",
    "plt.ylabel('Accuracy')\n",
    "plt.xlabel('Epoch')\n",
    "plt.legend(['Train', 'Test'], loc='upper left')\n",
    "plt.show()\n",
    "\n",
    "# complex = 1, synthetic = 0\n",
    "\n",
    "x = X_test\n",
    "Y = y_test\n",
    "\n",
    "pred = [round(i[0]) for i in model.predict(x)]\n",
    "synC = 0;\n",
    "synF = 0;\n",
    "comC = 0;\n",
    "comF = 0;\n",
    "\n",
    "for i in range(len(Y)):\n",
    "    if Y[i] == 0 and pred[i] == 0:\n",
    "        synC += 1\n",
    "    elif Y[i] == 0 and pred[i] == 1:\n",
    "        synF += 1\n",
    "    elif Y[i] == 1 and pred[i] == 1:\n",
    "        comC += 1\n",
    "    elif Y[i] == 1 and pred[i] == 0:\n",
    "        comF += 1\n",
    "        \n",
    "print(\"Pred/Act|Syn|Com\\nSyn\\t|\",synC, synF, \"\\nCom\\t|\", comF, comC)"
   ]
  },
  {
   "cell_type": "code",
   "execution_count": null,
   "id": "0b02a0e1",
   "metadata": {},
   "outputs": [],
   "source": [
    "# model and sc have to be in RAM\n",
    "# function to predict an instance by its name\n",
    "model.finalize_state()\n",
    "def predictInstance(i):\n",
    "    ins = df[df['instance'] == i].iloc[:,2:-1].to_numpy(dtype=np.float64)\n",
    "    ins = sc.transform(ins)\n",
    "    val = model.predict(ins, callbacks=None, verbose=False);\n",
    "    return val[0][0]"
   ]
  },
  {
   "cell_type": "code",
   "execution_count": null,
   "id": "e38c44d7",
   "metadata": {},
   "outputs": [],
   "source": [
    "# All instances that have been predicted worngly\n",
    "wrong = {}\n",
    "for r in tqdm(df.iterrows(), total=len(df)):\n",
    "    data = r[1]\n",
    "    name = data['instance']\n",
    "    y = data['y']\n",
    "    pred = predictInstance(name);\n",
    "    if round(pred) != round(y):\n",
    "        wrong[name] = pred\n",
    "        \n",
    "sorted(wrong)"
   ]
  }
 ],
 "metadata": {
  "kernelspec": {
   "display_name": "py3.8",
   "language": "python",
   "name": "py3.8"
  },
  "language_info": {
   "codemirror_mode": {
    "name": "ipython",
    "version": 3
   },
   "file_extension": ".py",
   "mimetype": "text/x-python",
   "name": "python",
   "nbconvert_exporter": "python",
   "pygments_lexer": "ipython3",
   "version": "3.8.6"
  }
 },
 "nbformat": 4,
 "nbformat_minor": 5
}
