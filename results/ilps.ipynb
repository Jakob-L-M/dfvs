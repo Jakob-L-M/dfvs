{
 "cells": [
  {
   "cell_type": "code",
   "execution_count": null,
   "id": "8ad3d020",
   "metadata": {},
   "outputs": [],
   "source": [
    "import pandas as pd\n",
    "import numpy as np\n",
    "import matplotlib.pyplot as plt\n",
    "from sklearn import linear_model"
   ]
  },
  {
   "cell_type": "code",
   "execution_count": null,
   "id": "b2f4698f",
   "metadata": {},
   "outputs": [],
   "source": [
    "df1 = pd.read_csv('../results/csv_results/clean_topo_ilp.csv', sep=',')\n",
    "#df1['name'] = [i[i.index('instances/') + 10:] for i in df1['name']]\n",
    "#df1 = df1.sort_values('name')\n",
    "df1['instance'] = [i[i.index('instances/') + 10:] for i in df1['instance']]\n",
    "df1 = df1.sort_values('instance')\n",
    "#df1['totalTime'] = df1['totalTime']/10**9\n",
    "\n",
    "df2 = pd.read_csv('../results/csv_results/digraph_clean_topo_ilp.csv', sep=',')\n",
    "df2['instance'] = [i[i.index('instances/') + 10:] for i in df2['instance']]\n",
    "df2 = df2.sort_values('instance')\n",
    "\n",
    "#filt = np.logical_and(df1['totalTime'] > 0.0001, df2['totalTime'] > 0.0001)"
   ]
  },
  {
   "cell_type": "code",
   "execution_count": null,
   "id": "a3aef003",
   "metadata": {},
   "outputs": [],
   "source": [
    "plt.figure(figsize=(12,10))\n",
    "plt.scatter(df1['totalTime'], df2['totalTime'], marker='x')\n",
    "plt.xscale('log')\n",
    "plt.yscale('log')\n",
    "plt.xlabel('Topological ILP with simple clean')\n",
    "plt.ylabel('Topological ILP with simple clean and digraph constraints')\n",
    "\n",
    "m,c = np.linalg.lstsq(np.vstack([df2['totalTime'], np.ones(len(df1))]).T, df1['totalTime'], rcond=None)[0]\n",
    "\n",
    "#plt.plot([0.0001, 1000], [0.0001*m+c, 1000*m+c])\n",
    "\n",
    "# Timeout Lines\n",
    "plt.plot([10**-4, 10**3], [180,180], c='black', ls='--')\n",
    "plt.plot([180,180], [10**-4, 10**3], c='black', ls='--')\n",
    "\n",
    "plt.plot([10**-4, 10**3], [10**-4, 10**3], c='red', ls='--')\n",
    "# 10x intervalls\n",
    "plt.text(0.0013, 0.011, 'x10', rotation = 45)\n",
    "plt.text(0.0155, 0.0013, 'x0.1', rotation = 45)\n",
    "plt.plot([0.001,100], [0.01,1000], color='green', ls='--', lw=0.5)\n",
    "plt.plot([0.01,1000], [0.001,100], color='green', ls='--', lw=0.5)\n",
    "\n",
    "# 100x intervalls\n",
    "plt.text(0.0013, 0.11, 'x100', rotation = 45)\n",
    "plt.text(0.155, 0.0013, 'x0.01', rotation = 45)\n",
    "plt.plot([0.001,10], [0.1,1000], color='green', ls='--', lw=0.5)\n",
    "plt.plot([0.1,1000], [0.001,10], color='green', ls='--', lw=0.5)\n",
    "\n",
    "# 1000x intervalls\n",
    "plt.text(0.0013, 1.1, 'x1000', rotation = 45)\n",
    "plt.text(1.55, 0.0013, 'x0.001', rotation = 45)\n",
    "plt.plot([0.001,1], [1,1000], color='green', ls='--', lw=0.5)\n",
    "plt.plot([1,1000], [0.001,1], color='green', ls='--', lw=0.5)\n",
    "\n",
    "\n",
    "plt.xlim([10**-3, 300])\n",
    "plt.ylim([10**-3, 300])\n",
    "plt.title('Reduction Topo vs reduction with additional digraphs Topo')\n",
    "#plt.savefig('topo_simple_reduction_vs_digraphs_and_reduction.pdf')\n",
    "plt.show();"
   ]
  },
  {
   "cell_type": "code",
   "execution_count": null,
   "id": "710a9be4",
   "metadata": {},
   "outputs": [],
   "source": []
  },
  {
   "cell_type": "code",
   "execution_count": null,
   "id": "224fc86c",
   "metadata": {},
   "outputs": [],
   "source": [
    "np.array([df1['totalTime'].to_numpy(), df2['totalTime'].to_numpy()]).T"
   ]
  },
  {
   "cell_type": "code",
   "execution_count": null,
   "id": "978e9a7d",
   "metadata": {},
   "outputs": [],
   "source": [
    "data = np.array([x_val, y_val])\n",
    "data = data.transpose()\n",
    "t = pd.DataFrame(data, columns=['x', 'y'])\n",
    "t[t['x']*1000 < t['y']]"
   ]
  },
  {
   "cell_type": "code",
   "execution_count": null,
   "id": "a4441090",
   "metadata": {},
   "outputs": [],
   "source": [
    "?plt.annotate"
   ]
  }
 ],
 "metadata": {
  "kernelspec": {
   "display_name": "py3.8",
   "language": "python",
   "name": "py3.8"
  },
  "language_info": {
   "codemirror_mode": {
    "name": "ipython",
    "version": 3
   },
   "file_extension": ".py",
   "mimetype": "text/x-python",
   "name": "python",
   "nbconvert_exporter": "python",
   "pygments_lexer": "ipython3",
   "version": "3.8.6"
  }
 },
 "nbformat": 4,
 "nbformat_minor": 5
}
