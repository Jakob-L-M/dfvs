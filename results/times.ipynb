{
 "cells": [
  {
   "cell_type": "code",
   "execution_count": null,
   "metadata": {},
   "outputs": [],
   "source": [
    "import pandas as pd\n",
    "import matplotlib.pyplot as plt\n",
    "import numpy as np"
   ]
  },
  {
   "cell_type": "code",
   "execution_count": null,
   "metadata": {},
   "outputs": [],
   "source": [
    "df = pd.read_csv('times.csv')\n",
    "\n",
    "timeout = df[df['totalTime'] < 0]\n",
    "\n",
    "df = df[df['totalTime'] > 0] # remove Timeouts\n",
    "\n",
    "# Normalize rootTime, cleaningTime, packingTime, flowerTime, digraphTime, busyCycleBranchingTime, cycleSearchTime\n",
    "df['rootTime_norm'] = df['rootTime']/df['totalTime']\n",
    "df['cleaningTime_norm'] = df['cleaningTime']/df['totalTime']\n",
    "df['packingTime_norm'] = df['packingTime']/df['totalTime']\n",
    "df['flowerTime_norm'] = df['flowerTime']/df['totalTime']\n",
    "df['digraphTime_norm'] = df['digraphTime']/df['totalTime']\n",
    "df['busyCycleBranchingTime_norm'] = df['busyCycleBranchingTime']/df['totalTime']\n",
    "df['cycleSearchTime_norm'] = df['cycleSearchTime']/df['totalTime']\n",
    "\n",
    "# smoothing\n",
    "smooth = 15 # number of instances to smooth over\n",
    "\n",
    "comp_protion = np.zeros(len(df))\n",
    "x = df['name'].to_numpy()\n",
    "for ind in range(len(df)):\n",
    "    comp_protion[ind] = np.sum(['complex' in i for i in x[max(0, ind - smooth):min(len(df), ind+1+smooth)]])/(min(len(df), ind+smooth)+1 - max(0, ind - smooth))\n",
    "\n",
    "df = df.sort_values('totalTime', ascending=False)\n",
    "for col in df.columns:\n",
    "    if 'norm' not in col:\n",
    "        continue\n",
    "    x = df[col].to_numpy()\n",
    "    y = np.zeros(len(df))\n",
    "    for ind in range(len(df)):\n",
    "        y[ind] = np.sum(x[max(0, ind - smooth):min(len(df), ind+1+smooth)])/(min(len(df), ind+smooth)+1 - max(0, ind - smooth))\n",
    "    df[col + '_smooth'] = y\n",
    "\n",
    "df['other_smooth'] = 1 - df['rootTime_norm_smooth'] - df['cleaningTime_norm_smooth'] - df['packingTime_norm_smooth'] - df['flowerTime_norm_smooth'] - df['digraphTime_norm_smooth'] - df['busyCycleBranchingTime_norm_smooth'] - df['cycleSearchTime_norm_smooth']\n",
    "\n",
    "df"
   ]
  },
  {
   "cell_type": "code",
   "execution_count": null,
   "metadata": {},
   "outputs": [],
   "source": [
    "comp_protion"
   ]
  },
  {
   "cell_type": "code",
   "execution_count": null,
   "metadata": {},
   "outputs": [],
   "source": [
    "df = df.sort_values('totalTime', ascending=True)\n",
    "#df = df[df['totalTime'] > 5**9]\n",
    "\n",
    "#filt = ['complex' not in i for i in df['name']]\n",
    "\n",
    "data = df#[filt]\n",
    "\n",
    "plt.stackplot(range(len(data)), data['rootTime_norm'], data['cleaningTime_norm'],\n",
    "              data['packingTime_norm'], data['flowerTime_norm'], data['digraphTime_norm'],\n",
    "              data['busyCycleBranchingTime_norm'], data['cycleSearchTime_norm'], labels=['rootTime',\n",
    "              'cleaningTime', 'packingTime', 'flowerTime', 'digraphTime', 'busyCycleBranchingTime', 'cycleSearchTime'])\n",
    "plt.legend(loc='lower left')"
   ]
  },
  {
   "cell_type": "code",
   "execution_count": null,
   "metadata": {},
   "outputs": [],
   "source": [
    "df = df.sort_values('totalTime', ascending=True)\n",
    "\n",
    "\n",
    "\n",
    "data = df#[filt]\n",
    "\n",
    "plt.figure(figsize=(12,6))\n",
    "plt.stackplot(df['totalTime']/10**9, data['rootTime_norm_smooth'], data['cleaningTime_norm_smooth'],\n",
    "              data['packingTime_norm_smooth'], data['flowerTime_norm_smooth'], data['digraphTime_norm_smooth'],\n",
    "              data['busyCycleBranchingTime_norm_smooth'], data['cycleSearchTime_norm_smooth'], data['other_smooth'],\n",
    "              labels=['Root', 'Cleaning', 'Packing', 'Flower',\n",
    "                      'Digraphs', 'BusyCycle', 'BFS-Search', 'Other'])\n",
    "plt.ylim([0,1])\n",
    "plt.plot(df['totalTime']/10**9, comp_protion)\n",
    "plt.xlim([10**-4, 180])\n",
    "#plt.xticks([sum(df['totalTime'] < 10**8), sum(df['totalTime'] < 10**9), sum(df['totalTime'] < 5*10**9), sum(df['totalTime'] < 10**10), sum(df['totalTime'] < 10**11)], ['0.1s', '1s', '5s', '10s', '100s'])\n",
    "plt.yticks([i/10 for i in range(1,11)], [str(i*10)+'%' for i in range(1,11)])\n",
    "plt.xlabel('Total Time for solve')\n",
    "plt.ylabel('Time distribution')\n",
    "plt.xscale('log')\n",
    "plt.box(False)\n",
    "plt.legend(loc='lower left')"
   ]
  },
  {
   "cell_type": "code",
   "execution_count": null,
   "metadata": {},
   "outputs": [],
   "source": [
    "sum(df['totalTime'])"
   ]
  },
  {
   "cell_type": "code",
   "execution_count": null,
   "metadata": {},
   "outputs": [],
   "source": [
    "timeout = timeout.sort_values('rootTime', ascending=True)\n",
    "\n",
    "timeout['rootTime_norm'] = timeout['rootTime']/(180*10**9)\n",
    "timeout['cleaningTime_norm'] = timeout['cleaningTime']/(180*10**9)\n",
    "timeout['packingTime_norm'] = timeout['packingTime']/(180*10**9)\n",
    "timeout['flowerTime_norm'] = timeout['flowerTime']/(180*10**9)\n",
    "timeout['digraphTime_norm'] = timeout['digraphTime']/(180*10**9)\n",
    "timeout['busyCycleBranchingTime_norm'] = timeout['busyCycleBranchingTime']/(180*10**9)\n",
    "timeout['cycleSearchTime_norm'] = timeout['cycleSearchTime']/(180*10**9)\n",
    "\n",
    "data = timeout\n",
    "\n",
    "plt.figure(figsize=(12,6))\n",
    "plt.stackplot(range(len(data)), data['rootTime_norm'], data['cleaningTime_norm'],\n",
    "              data['packingTime_norm'], data['flowerTime_norm'], data['digraphTime_norm'],\n",
    "              data['busyCycleBranchingTime_norm'], data['cycleSearchTime_norm'],\n",
    "              labels=['Root', 'Cleaning', 'Packing', 'Flower',\n",
    "                      'Digraphs', 'BusyCycle', 'BFS-Search'])\n",
    "plt.ylim([0,1])\n",
    "plt.xlim([0,len(timeout)-1])\n",
    "plt.yticks([i/10 for i in range(1,11)], [str(i*10)+'%' for i in range(1,11)])\n",
    "plt.xlabel('Total Time for solve')\n",
    "plt.ylabel('Time distribution')\n",
    "plt.box(False)\n",
    "plt.legend(loc='lower left')"
   ]
  },
  {
   "cell_type": "code",
   "execution_count": null,
   "metadata": {},
   "outputs": [],
   "source": [
    "timeout"
   ]
  }
 ],
 "metadata": {
  "kernelspec": {
   "display_name": "Python 3",
   "language": "python",
   "name": "python3"
  },
  "language_info": {
   "codemirror_mode": {
    "name": "ipython",
    "version": 3
   },
   "file_extension": ".py",
   "mimetype": "text/x-python",
   "name": "python",
   "nbconvert_exporter": "python",
   "pygments_lexer": "ipython3",
   "version": "3.8.6"
  }
 },
 "nbformat": 4,
 "nbformat_minor": 4
}
