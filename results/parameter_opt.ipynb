{
 "cells": [
  {
   "cell_type": "code",
   "execution_count": null,
   "id": "577e5e6d",
   "metadata": {},
   "outputs": [],
   "source": [
    "import pandas as pd\n",
    "import matplotlib.pyplot as plt\n",
    "import numpy as np"
   ]
  },
  {
   "cell_type": "code",
   "execution_count": null,
   "id": "d9ead8ef",
   "metadata": {},
   "outputs": [],
   "source": [
    "df = pd.read_csv('./final_res/parameter_opt.csv', sep=';', index_col='index', decimal='.')\n",
    "df"
   ]
  },
  {
   "cell_type": "code",
   "execution_count": null,
   "id": "30ab55aa",
   "metadata": {},
   "outputs": [],
   "source": [
    "df = pd.read_csv('./final_res/parameter_opt_costTRec.csv', sep=';', index_col='index', decimal='.')\n",
    "norm = df['norm']\n",
    "data = df.copy();\n",
    "for col in df.columns:\n",
    "    if col != 'norm':\n",
    "        data[col] = df[col]/norm\n",
    "plt.boxplot(data.to_numpy().transpose()[1:].transpose());\n",
    "plt.plot([0,17], [1,1])\n",
    "plt.xlim([0.5,15.5])\n",
    "plt.ylabel('Relativ change')\n",
    "plt.xlabel('q');\n",
    "plt.title('Relative change when calculating cost-t lowerbound in every q-th node')\n",
    "max_y = int(max(np.max(data)[1:])*10 + 2)\n",
    "plt.yticks([i/10 for i in range(0, max_y, 3)], [str(i*10)+'%' for i in range(0, max_y, 3)]);\n",
    "plt.xticks([i for i in range(1, 16)], [(i+1)**2 for i in range(1, 16)]);\n",
    "plt.savefig('para_pot_1.pdf')"
   ]
  },
  {
   "cell_type": "code",
   "execution_count": null,
   "id": "86545e56",
   "metadata": {},
   "outputs": [],
   "source": [
    "df = pd.read_csv('./final_res/parameter_opt_costTK.csv', sep=';', index_col='index', decimal='.')\n",
    "norm = df['norm']\n",
    "data = df.copy();\n",
    "for col in df.columns:\n",
    "    if col != 'norm':\n",
    "        data[col] = df[col]/norm\n",
    "plt.boxplot(data.to_numpy().transpose()[1:].transpose());\n",
    "plt.plot([0,17], [1,1])\n",
    "max_y = min(25, int(max(np.max(data)[1:])*10 + 2))\n",
    "plt.xlim([0.5,15.5])\n",
    "plt.ylim([0.4,max_y/10])\n",
    "plt.ylabel('Relativ change')\n",
    "plt.xlabel('i');\n",
    "plt.title('Relative change when calculating cost-t lowerbound if k >= i\\n while recursions % 49 == 0')\n",
    "plt.yticks([i/10 for i in range(5, max_y, 1)], [str(i*10)+'%' for i in range(5, max_y, 1)]);\n",
    "plt.xticks([i for i in range(1, 16)], [i+1 for i in range(1, 16)]);\n",
    "plt.savefig('para_pot_2.pdf')"
   ]
  },
  {
   "cell_type": "code",
   "execution_count": null,
   "id": "185c34b5",
   "metadata": {},
   "outputs": [],
   "source": [
    "df = pd.read_csv('./final_res/parameter_opt_petalTRec.csv', sep=';', index_col='index', decimal='.')\n",
    "norm = df['norm']\n",
    "data = df.copy();\n",
    "for col in df.columns:\n",
    "    if col != 'norm':\n",
    "        data[col] = df[col]/norm\n",
    "plt.boxplot(data.to_numpy().transpose()[1:].transpose());\n",
    "plt.plot([0,17], [1,1])\n",
    "plt.xlim([0.5,16.5])\n",
    "plt.ylim([0.45, 1.45])\n",
    "plt.ylabel('Relativ change')\n",
    "plt.xlabel('q');\n",
    "plt.title('Relative change when calculating flower lowerbound in every q-th node\\nwhile cost-t lowerbound is enabled')\n",
    "max_y = int(max(np.max(data)[1:])*10 + 2)\n",
    "plt.yticks([i/10 for i in range(5, max_y, 1)], [str(i*10)+'%' for i in range(5, max_y, 1)]);\n",
    "plt.xticks([i for i in range(1, 17)], [(i)**2 for i in range(1, 17)]);\n",
    "plt.savefig('para_pot_3.pdf')"
   ]
  },
  {
   "cell_type": "code",
   "execution_count": null,
   "id": "ffbb4bac",
   "metadata": {},
   "outputs": [],
   "source": [
    "df = pd.read_csv('./final_res/parameter_opt_petalK.csv', sep=';', index_col='index', decimal='.')\n",
    "norm = df['norm']\n",
    "data = df.copy();\n",
    "for col in df.columns:\n",
    "    if col != 'norm':\n",
    "        data[col] = df[col]/norm\n",
    "plt.boxplot(data.to_numpy().transpose()[1:].transpose());\n",
    "plt.plot([0,17], [1,1])\n",
    "max_y = min(25, int(max(np.max(data)[1:])*10 + 2))\n",
    "plt.xlim([0.5,15.5])\n",
    "plt.ylim([0.4,max_y/10])\n",
    "plt.ylabel('Relativ change')\n",
    "plt.xlabel('i');\n",
    "plt.title('Relative change when calculating petal lowerbound if k >= i\\n while recursions % 16 == 0 and cost-t lowerbound is enabled')\n",
    "plt.yticks([i/10 for i in range(5, max_y, 1)], [str(i*10)+'%' for i in range(5, max_y, 1)]);\n",
    "plt.xticks([i for i in range(1, 16)], [i+1 for i in range(1, 16)]);\n",
    "plt.savefig('para_pot_4.pdf')"
   ]
  }
 ],
 "metadata": {
  "kernelspec": {
   "display_name": "Python 3 (ipykernel)",
   "language": "python",
   "name": "python3"
  },
  "language_info": {
   "codemirror_mode": {
    "name": "ipython",
    "version": 3
   },
   "file_extension": ".py",
   "mimetype": "text/x-python",
   "name": "python",
   "nbconvert_exporter": "python",
   "pygments_lexer": "ipython3",
   "version": "3.10.0"
  }
 },
 "nbformat": 4,
 "nbformat_minor": 5
}
