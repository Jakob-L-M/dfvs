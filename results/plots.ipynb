{
 "cells": [
  {
   "cell_type": "markdown",
   "metadata": {},
   "source": [
    "## Parser for .res files\n",
    "\n",
    "Directory should look like this:\n",
    "```\n",
    "resluts\n",
    "| plots.ipynb\n",
    "└─final_json\n",
    "   └ json files created by this notebook\n",
    "└─final_res\n",
    "   └ res file outputs from server testing\n",
    "     should have distinct names\n",
    "└─plots\n",
    "   └ pdf output of plots\n",
    "└─presentation\n",
    "   └ complete presentation\n",
    "```"
   ]
  },
  {
   "cell_type": "code",
   "execution_count": null,
   "metadata": {
    "tags": []
   },
   "outputs": [],
   "source": [
    "import json\n",
    "import glob\n",
    "\n",
    "graph_data = {}\n",
    "with open('Graphdaten.txt', 'r') as f:\n",
    "    for line in f.readlines():\n",
    "        split = line.split()\n",
    "        graph_data[split[0]] = {'n':split[1], 'm': split[2]}\n",
    "\n",
    "for file in glob.glob('./final_res/*.res'):\n",
    "    added_lines = []\n",
    "\n",
    "    with open(file, 'r') as f:\n",
    "        lines = f.readlines()\n",
    "        data = {}\n",
    "        for line in lines:\n",
    "\n",
    "            temp = {}\n",
    "\n",
    "            if 'correct' in line:\n",
    "                split_arr = line.split('\\t')\n",
    "                time = split_arr[1].strip().split(' ')[0]\n",
    "                temp['t'] = float(time[time.index(':')+1:]) + 60*float(time[:time.index(':')])\n",
    "                temp['k'] = int(split_arr[2][1:split_arr[2].index(',')])\n",
    "            else:\n",
    "                continue\n",
    "\n",
    "            if 'complex' in line:\n",
    "                temp['c'] = 'complex'\n",
    "            elif 'synthetic' in line:\n",
    "                temp['c'] = 'synthetic'\n",
    "            else:\n",
    "                temp['c'] = 'unknown'\n",
    "\n",
    "            name = line[line.index(temp['c'] + '/')+len(temp['c'])+1: line.index(' ')]\n",
    "\n",
    "            if name in added_lines:\n",
    "                continue\n",
    "            added_lines.append(name)\n",
    "\n",
    "            data[name] = temp\n",
    "\n",
    "    with open('./final_json/' + file[12:] + '.json', 'w') as f:\n",
    "        json.dump(data, f)"
   ]
  },
  {
   "cell_type": "code",
   "execution_count": null,
   "metadata": {},
   "outputs": [],
   "source": [
    "# Reading in data and creating a dataframe\n",
    "import json\n",
    "import matplotlib.pyplot as plt\n",
    "import matplotlib.lines as mlines\n",
    "import pandas as pd\n",
    "from math import log\n",
    "import numpy as np\n",
    "import matplotlib.pyplot as plt\n",
    "from matplotlib import cm\n",
    "from matplotlib.colors import ListedColormap\n",
    "from matplotlib.pyplot import figure\n",
    "figure(figsize=(8, 8), dpi=80);"
   ]
  },
  {
   "cell_type": "code",
   "execution_count": null,
   "metadata": {},
   "outputs": [],
   "source": [
    "# Merging all output json files in to one pandas DataFrame\n",
    "\n",
    "data = {}\n",
    "max_time = 180\n",
    "\n",
    "for json_file in glob.glob('./final_json/*.json'):\n",
    "    with open(json_file, 'r') as f:\n",
    "        data[json_file[13:json_file.index('.res')]] = json.loads(f.read())\n",
    "\n",
    "complete = {}\n",
    "for dic in data:\n",
    "    for i in data[dic]:\n",
    "        if i in complete:\n",
    "            continue\n",
    "        else:\n",
    "            complete[i] = {'k':data[dic][i]['k'],'n':data[dic][i]['n'],'m':data[dic][i]['m'],'c':data[dic][i]['c']}\n",
    "            for j in data:\n",
    "                if i in data[j]:\n",
    "                    complete[i][j] = data[j][i]['t']\n",
    "                else:\n",
    "                    complete[i][j] = max_time\n",
    "\n",
    "df = pd.DataFrame(complete).transpose()"
   ]
  },
  {
   "cell_type": "code",
   "execution_count": null,
   "metadata": {},
   "outputs": [],
   "source": [
    "# completet dataframe\n",
    "df"
   ]
  },
  {
   "cell_type": "code",
   "execution_count": null,
   "metadata": {},
   "outputs": [],
   "source": [
    "# Comparison of tow models\n",
    "\n",
    "fig, ax = plt.subplots()\n",
    "\n",
    "# scatter(<Model y>, <Model x>)\n",
    "ax.scatter(df['old_dfvs.jar'], df['dfvs_busy_cycle_no_clean'], marker = \"x\")\n",
    "ax.set_yscale('log')\n",
    "ax.set_xlim(0.07, max_time*1.2)\n",
    "ax.set_ylim(0.07, max_time*1.2)\n",
    "ax.set_xscale('log')\n",
    "ax.add_line(mlines.Line2D([0,max_time*1.2], [0,max_time*1.2], color='red', ls='--', lw=1))\n",
    "\n",
    "# 10x intervalls\n",
    "ax.add_line(mlines.Line2D([0.01,100], [0.1,1000], color='green', ls='--', lw=0.5))\n",
    "ax.add_line(mlines.Line2D([0.1,1000], [0.01,100], color='green', ls='--', lw=0.5))\n",
    "\n",
    "# 100x intervalls\n",
    "ax.add_line(mlines.Line2D([0.01,10], [1,1000], color='green', ls='--', lw=0.5))\n",
    "ax.add_line(mlines.Line2D([1,1000], [0.01,10], color='green', ls='--', lw=0.5))\n",
    "plt.show()"
   ]
  },
  {
   "cell_type": "code",
   "execution_count": null,
   "metadata": {},
   "outputs": [],
   "source": [
    "k = max(df['k'])\n",
    "\n",
    "viridis = cm.get_cmap('turbo', k)\n",
    "newcolors = viridis(np.linspace(0, 1, k))\n",
    "pink = np.array([248/256, 24/256, 148/256, 1])\n",
    "newcolors[:1, :] = pink\n",
    "newcmp = ListedColormap(newcolors)\n",
    "\n",
    "fig, ax = plt.subplots(figsize=(8,4))\n",
    "\n",
    "im = ax.scatter(df['n'], df['dfvs_busy_cycle_no_clean'], c=df['k'], cmap=newcmp)\n",
    "ax.set_yscale('log')\n",
    "ax.set_xlabel('number of vertices')\n",
    "ax.set_ylabel('time in seconds')\n",
    "\n",
    "color_bar = fig.colorbar(im, orientation=\"vertical\")\n",
    "color_bar.ax.set_ylabel('k')\n",
    "plt.savefig(\"all.png\")\n",
    "plt.show()"
   ]
  }
 ],
 "metadata": {
  "interpreter": {
   "hash": "f1e5a43c77f2b91739f80d6a7e64107ae789a1cf19b2e6db923259326c7840e6"
  },
  "kernelspec": {
   "display_name": "Python 3",
   "language": "python",
   "name": "python3"
  },
  "language_info": {
   "codemirror_mode": {
    "name": "ipython",
    "version": 3
   },
   "file_extension": ".py",
   "mimetype": "text/x-python",
   "name": "python",
   "nbconvert_exporter": "python",
   "pygments_lexer": "ipython3",
   "version": "3.8.6"
  }
 },
 "nbformat": 4,
 "nbformat_minor": 2
}
