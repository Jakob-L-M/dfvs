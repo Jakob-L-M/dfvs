{
 "cells": [
  {
   "cell_type": "code",
   "execution_count": 41,
   "metadata": {},
   "outputs": [
    {
     "name": "stdout",
     "output_type": "stream",
     "text": [
      "{'complex': {'biology-n_12-m_43-p_0.5-25': {'n': 12, 'k': 4, 'm': 43}, 'biology-n_6-m_7-p_0.5-13': {'n': 6, 'k': 0, 'm': 7}, 'biology-n_13-m_39-p_0.5-4': {'n': 13, 'k': 2, 'm': 39}, 'biology-n_22-m_76-p_0.9-9': {'n': 22, 'k': 3, 'm': 76}}, 'synthetic': {}}\n"
     ]
    }
   ],
   "source": [
    "with open(\"dfvs.jar.res\", 'r') as f:\n",
    "    lines = f.readlines()\n",
    "    data = {'complex': {}, 'synthetic': {}}\n",
    "    for line in lines:\n",
    "        if 'complex' in line:\n",
    "            category = 'complex'\n",
    "        else:\n",
    "            category = 'synthetic'\n",
    "            \n",
    "        name = line[line.index(category + '/')+len(category)+1: line.index(' ')]\n",
    "\n",
    "        try:\n",
    "            k = int(line[line.rindex(' ')+1:-1])\n",
    "        except ValueError:\n",
    "            continue\n",
    "\n",
    "        data[category][name] = {'n': int(name[name.index('-n_')+3: name.index('-m_')]), 'k': k}\n",
    "        \n",
    "        if '-p_' not in name:\n",
    "            if '.mtx' in name:\n",
    "                data[category][name]['m'] = int(name[name.index('-m_')+3: name.index('.mtx')])\n",
    "            else:\n",
    "                    data[category][name]['m'] = int(name[name.index('-m_')+3:])\n",
    "        else:\n",
    "            data[category][name]['m'] = int(name[name.index('-m_')+3: name.index('-p_')])\n",
    "    \n",
    "    print(data)"
   ]
  }
 ],
 "metadata": {
  "interpreter": {
   "hash": "f1e5a43c77f2b91739f80d6a7e64107ae789a1cf19b2e6db923259326c7840e6"
  },
  "kernelspec": {
   "display_name": "Python 3.8.6 64-bit",
   "name": "python3"
  },
  "language_info": {
   "codemirror_mode": {
    "name": "ipython",
    "version": 3
   },
   "file_extension": ".py",
   "mimetype": "text/x-python",
   "name": "python",
   "nbconvert_exporter": "python",
   "pygments_lexer": "ipython3",
   "version": "3.8.6"
  },
  "orig_nbformat": 4
 },
 "nbformat": 4,
 "nbformat_minor": 2
}
